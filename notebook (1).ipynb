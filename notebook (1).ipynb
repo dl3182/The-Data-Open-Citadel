{
  "cells": [
    {
      "metadata": {
        "_execution_state": "idle",
        "_uuid": "db40f7f48ebd780814f8d76c81784f35b03066d8",
        "trusted": false,
        "_cell_guid": "b3923249-2203-423d-be47-4b992b224181"
      },
      "cell_type": "code",
      "source": "# This R environment comes with all of CRAN preinstalled, as well as many other helpful packages\n# The environment is defined by the kaggle/rstats docker image: https://github.com/kaggle/docker-rstats\n# For example, here's several helpful packages to load in \n\nlibrary(ggplot2) # Data visualization\nlibrary(readr) # CSV file I/O, e.g. the read_csv function\n\n# Input data files are available in the \"../input/\" directory.\n# For example, running this (by clicking run or pressing Shift+Enter) will list the files in the input directory\n\nsystem(\"ls ../input\")\nlibrary(tidyverse)\nlibrary(stringr)\nlibrary(lubridate)\nlibrary(leaflet)\nlibrary(DT)\nlibrary(forecast)\n\n\nrm(list=ls())\n\nfillColor = \"#FFA07A\"\nfillColor2 = \"#F1C40F\"\n\n#NYC311 = read_csv(\"../input/cluster1/0.csv\")\nNYC311 = read_csv(\"../input/cleaned2/cleaned_data.csv\")\n# Any results you write to the current directory are saved as output.",
      "execution_count": null,
      "outputs": []
    },
    {
      "metadata": {
        "_uuid": "93002ed9d3db71918c7324e134b0c413b2572023",
        "trusted": false,
        "_cell_guid": "3d28409b-b65e-4a0e-b5a6-9e6515ad54a2"
      },
      "cell_type": "code",
      "source": "NYC311 = NYC311 %>%\n  rename(ComplaintType = `complaint_type`) %>%\n  rename(CreatedDate = `created_date`)",
      "execution_count": null,
      "outputs": []
    },
    {
      "metadata": {
        "_uuid": "903474e28210194c51b966d049514f521d60bd25",
        "trusted": false,
        "_cell_guid": "e4e6d363-7fac-4fcd-a20a-82dc73c461c6"
      },
      "cell_type": "code",
      "source": "colnames(NYC311)",
      "execution_count": null,
      "outputs": []
    },
    {
      "metadata": {
        "_uuid": "370b3454e9112616f0712a4200a0cdc4327fc51c",
        "trusted": false,
        "_cell_guid": "f7f70a1a-8bf2-49a7-a9b9-843eb4fa6a20"
      },
      "cell_type": "code",
      "source": "NYC311 %>%\n  group_by(borough) %>%\n  summarise(Count = n()) %>%\n  ungroup() %>%\n  mutate(borough = reorder(borough,Count)) %>%\n  arrange(desc(Count)) %>%\n  head(10) %>%\n  \n  ggplot(aes(x = borough,y = Count)) +\n  geom_bar(stat='identity',colour=\"white\", fill = fillColor2) +\n  geom_text(aes(x = borough, y = 1, label = paste0(\"(\",Count,\")\",sep=\"\")),\n            hjust=0, vjust=.5, size = 4, colour = 'black',\n            fontface = 'bold') +\n  labs(x = 'Borough', \n       y = 'Count', \n       title = 'Borough and Count') +\n  coord_flip() + \n  theme_bw()",
      "execution_count": null,
      "outputs": []
    },
    {
      "metadata": {
        "_uuid": "c5fb46ab095ac12b937c2742b7d31eee9457deb0",
        "trusted": false,
        "_cell_guid": "121631d1-387f-4c3b-ac6a-9255fb6d695a"
      },
      "cell_type": "code",
      "source": "max(NYC311$CreatedDate,na.rm = TRUE)\nmin(NYC311$CreatedDate,na.rm = TRUE)",
      "execution_count": null,
      "outputs": []
    },
    {
      "metadata": {
        "_uuid": "0ec78024446fbd901289625a76dfe5372df45b0a",
        "trusted": false,
        "_cell_guid": "a67296ce-9296-4e0c-8c09-fe5f760e747f"
      },
      "cell_type": "code",
      "source": "NYC311 %>%\n  mutate(month = month.abb[month(mdy_hms(CreatedDate))]) %>%\n  filter(!is.na(month)) %>%\n  group_by(month) %>%\n  summarise(Count = n()) %>%\n  arrange(desc(Count)) %>%\n  ungroup() %>%\n  mutate(month = reorder(month,Count)) %>%\n  \n    ggplot(aes(x = month,y = Count)) +\n    geom_bar(stat='identity',colour=\"white\", fill = fillColor2) +\n    geom_text(aes(x = month, y = 1, label = paste0(\"(\",Count,\")\",sep=\"\")),\n              hjust=0, vjust=.5, size = 4, colour = 'black',\n              fontface = 'bold') +\n    labs(x = 'Month', \n         y = 'Count', \n         title = 'Month and Count') +\n    coord_flip() + \n    theme_bw()",
      "execution_count": null,
      "outputs": []
    },
    {
      "metadata": {
        "_uuid": "f09d97400bd3559bbc94b57727a04e1464d17c41",
        "trusted": false,
        "_cell_guid": "408c7a84-eee0-40e3-bdcf-c004032ec0cc"
      },
      "cell_type": "code",
      "source": "NYC311$hour = hour(NYC311$CreatedDate)\n\nGetTop10BusyHours = function(NYC311)\n{\n  NYC311 %>%\n  filter(!is.na(hour)) %>%\n  group_by(hour) %>%\n  summarise(Count = n()) %>%\n  arrange(desc(Count)) %>%\n  ungroup() %>%\n  mutate(hour = reorder(hour,Count)) %>%\n  head(10) %>%\n    \n    ggplot(aes(x = hour,y = Count)) +\n    geom_bar(stat='identity',colour=\"white\", fill = fillColor2) +\n    geom_text(aes(x = hour, y = 1, label = paste0(\"(\",Count,\")\",sep=\"\")),\n              hjust=0, vjust=.5, size = 4, colour = 'black',\n              fontface = 'bold') +\n    labs(x = 'hour', \n         y = 'Count', \n         title = 'hour and Count') +\n    coord_flip() + \n    theme_bw()\n  \n}",
      "execution_count": null,
      "outputs": []
    },
    {
      "metadata": {
        "_uuid": "f5832cb36954aad96de4f8da1e7b3b4846303d67",
        "trusted": false,
        "_cell_guid": "6ac2d6a8-cc44-49a0-8682-79b3588ef3b2"
      },
      "cell_type": "code",
      "source": "NYC311 %>%\n  mutate(year = year(mdy_hms(CreatedDate))) %>%\n  mutate(month = month(mdy_hms(CreatedDate))) %>%\n  filter(!is.na(year)) %>%\n  filter(!is.na(month)) %>%\n  group_by(year,month) %>%\n  summarise(Count = n()) %>%\n  arrange(year,month) %>%\n  mutate(YearMonth = make_date(year=year,month=month) ) %>%\n  \n\n  ggplot(aes(x=YearMonth,y=Count,group = 1)) +\n  geom_line(size=1, color=\"red\")+\n  geom_point(size=3, color=\"red\") +\n  labs(x = 'Time', y = 'Count',title = 'Trend of 311 Calls') +\n  theme_bw() ",
      "execution_count": null,
      "outputs": []
    },
    {
      "metadata": {
        "scrolled": true,
        "_uuid": "dae7134def4b987b08aca5c08e8e382d0a6f73c9",
        "trusted": false,
        "_cell_guid": "588b7fb2-c7d5-4812-9ab5-7d8e6a3ff318"
      },
      "cell_type": "code",
      "source": "NYC311TrendData = NYC311 %>%\n  mutate(year = year(mdy_hms(CreatedDate))) %>%\n  mutate(month = month(mdy_hms(CreatedDate))) %>%\n  filter(!is.na(year)) %>%\n  filter(!is.na(month)) %>%\n  group_by(year,month) %>%\n  summarise(Count = n()) %>%\n  arrange(year,month)\n\ntsNYC311TrendData = ts(NYC311TrendData)\n\ndatatable((tsNYC311TrendData), style=\"bootstrap\", class=\"table-condensed\", options = list(dom = 'tp',scrollX = TRUE))",
      "execution_count": null,
      "outputs": []
    },
    {
      "metadata": {
        "_uuid": "317e9327004c006dbc71548869786af585761ca1",
        "trusted": false,
        "_cell_guid": "a811c940-254d-42fc-854f-98077e453489"
      },
      "cell_type": "code",
      "source": "fit <- auto.arima(tsNYC311TrendData[1:40,3])\n\npreds = forecast(fit, h = 5)\n\npreds %>% autoplot(include=188) +theme_bw()",
      "execution_count": null,
      "outputs": []
    },
    {
      "metadata": {
        "_uuid": "06897233091bc09b776f45b86a3276a809d7e926",
        "trusted": false,
        "_cell_guid": "29dd9f74-e4b2-41e3-87c3-be64a7ce2532"
      },
      "cell_type": "code",
      "source": "NYC311TrendData = NYC311 %>%\n  mutate(year = year(mdy_hms(CreatedDate))) %>%\n  mutate(WeekNo = week(mdy_hms(CreatedDate))) %>%\n  \n  filter(!is.na(year)) %>%\n  filter(!is.na(WeekNo)) %>%\n  group_by(year,WeekNo) %>%\n  summarise(Count = n()) %>%\n  arrange(year,WeekNo)\n\ntsNYC311TrendData = ts(NYC311TrendData)\n\ndatatable((tsNYC311TrendData), style=\"bootstrap\", class=\"table-condensed\", options = list(dom = 'tp',scrollX = TRUE))",
      "execution_count": null,
      "outputs": []
    },
    {
      "metadata": {
        "_uuid": "f202f3bed60d2f055d7c5e00fc7626ebb5e0609e",
        "trusted": false,
        "_cell_guid": "622b9427-e3b5-4d50-8707-52cf48db2dee"
      },
      "cell_type": "code",
      "source": "fit <- auto.arima(tsNYC311TrendData[1:188,3])\n\npreds = forecast(fit, h = 5)\n\npreds %>% autoplot(include=188) +theme_bw()",
      "execution_count": null,
      "outputs": []
    },
    {
      "metadata": {
        "_uuid": "f11df3533edb2c381d2a71fb03328cfd427ba3eb",
        "trusted": false,
        "_cell_guid": "7c9ddcaa-1df5-423c-b37f-8bb017387bdb"
      },
      "cell_type": "code",
      "source": "predictions = as.numeric(preds$mean)\n\ncat(\"\\n\",\"The predictions are  \",predictions)",
      "execution_count": null,
      "outputs": []
    },
    {
      "metadata": {
        "_uuid": "e29cace60ee9d93fbd8583c18c432e05295f3694",
        "trusted": false,
        "_cell_guid": "689c0a3d-b720-4c22-ba32-f642f431d435"
      },
      "cell_type": "code",
      "source": "error = sqrt( mean( (tsNYC311TrendData[41:45,3] - predictions)^2))\n\ncat(\"\\n\",\"The RMSE is \", error)",
      "execution_count": null,
      "outputs": []
    },
    {
      "metadata": {
        "scrolled": true,
        "_uuid": "a0155ceb27d6ad37a2f3d07471c93e49d90807c0",
        "trusted": false,
        "_cell_guid": "ced11201-9b56-4904-81a7-a3ec9b247843"
      },
      "cell_type": "code",
      "source": "",
      "execution_count": null,
      "outputs": []
    },
    {
      "metadata": {
        "collapsed": true,
        "_uuid": "80961751888ede686539b1c6799eb95c815f3a24",
        "trusted": false,
        "_cell_guid": "e7b93439-d274-44df-9e06-786f469d0ba5"
      },
      "cell_type": "code",
      "source": "# NYC311TrendData = NYC311 %>%\n#   mutate(year = year(mdy_hms(CreatedDate))) %>%\n#   mutate(WeekNo = week(mdy_hms(CreatedDate))) %>%\n  \n#   filter(!is.na(year)) %>%\n#   filter(!is.na(WeekNo)) %>%\n#   group_by(year,WeekNo) %>%\n#   summarise(Count = n()) %>%\n#   arrange(year,WeekNo)\n#   mutate(YearMonth = make_date(year=year,WeeK=) )\n\n# #tsAustin311TrendData = ts(Austin311TrendData)\n\n# # datatable((tsAustin311TrendData), style=\"bootstrap\", class=\"table-condensed\", options = list(dom = 'tp',scrollX = TRUE))\n#   ggplot(aes(x=YearMonth,y=Count,group = 1)) +\n#   geom_line(size=1, color=\"red\")+\n#   geom_point(size=3, color=\"red\") +\n#   labs(x = 'Time', y = 'Count',title = 'Trend of 311 Calls') +\n#   theme_bw() ",
      "execution_count": null,
      "outputs": []
    },
    {
      "metadata": {
        "_uuid": "18da5ba1880471eac0009436ec5e58c46b332f83",
        "trusted": false,
        "_cell_guid": "fc054eb9-bd30-49df-8de9-60efc63fd9d2"
      },
      "cell_type": "code",
      "source": "",
      "execution_count": null,
      "outputs": []
    }
  ],
  "metadata": {
    "kernelspec": {
      "display_name": "R",
      "language": "R",
      "name": "ir"
    },
    "language_info": {
      "mimetype": "text/x-r-source",
      "name": "R",
      "pygments_lexer": "r",
      "version": "3.4.2",
      "file_extension": ".r",
      "codemirror_mode": "r"
    }
  },
  "nbformat": 4,
  "nbformat_minor": 1
}